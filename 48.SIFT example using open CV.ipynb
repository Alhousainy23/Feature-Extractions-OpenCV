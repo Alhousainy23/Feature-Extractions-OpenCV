{
 "cells": [
  {
   "cell_type": "markdown",
   "metadata": {},
   "source": [
    "* KP --> Key Points\n",
    "* `None`--> Out Image --> دي يتم استخدامها عشان لو عايز جزء معين من الصورة اعمل عليه ديتكت وديسكربشن وتم وضعها بي نون عشان احنا هنشتغل علي الصورة كلها"
   ]
  },
  {
   "cell_type": "code",
   "execution_count": 7,
   "metadata": {},
   "outputs": [
    {
     "name": "stdout",
     "output_type": "stream",
     "text": [
      "The Description are -->  [[  2.   0.  29. ...   0.   1. 145.]\n",
      " [  7.   1.   0. ...  25.  23.   0.]\n",
      " [  3.   0.   0. ...  29.  13.   2.]\n",
      " ...\n",
      " [ 30.  34.   2. ...   0.   0.   0.]\n",
      " [  0.   0.   1. ...   0.   0.   1.]\n",
      " [ 83.   3.   0. ...   1.   0.  10.]]\n"
     ]
    }
   ],
   "source": [
    "import numpy as np \n",
    "import pandas as pd \n",
    "import cv2 as cv \n",
    "import matplotlib.pyplot as plt \n",
    "import os \n",
    "os.chdir(R\"D:\\\\AI\\\\AI Models\\\\3. OpenCV\\\\0- OpenCV\\\\Data\\\\Images\")\n",
    "image = cv.imread('image.jpg')\n",
    "gray = cv.cvtColor(image,cv.COLOR_BGR2GRAY)\n",
    "sift = cv.SIFT_create()\n",
    "kp =sift.detect(gray)\n",
    "image = cv.drawKeypoints(gray,kp,None)\n",
    "image = cv.resize(image,(500,400))\n",
    "cv.imshow('KeyPoints before put and detect mag & dirct',image)\n",
    "#الي هنا لم يتم تحديد ديراكشن ولا ماكنتيود بتاعنا\n",
    "image = cv.drawKeypoints(gray,kp,image,flags=cv.DRAW_MATCHES_FLAGS_DRAW_RICH_KEYPOINTS)\n",
    "#cv.DRAW_MATCHES_FLAGS_DRAW_RICH_KEYPOINTS -->\n",
    "# Used because put circle in any features but special size build in pixels magnitude and orientation\n",
    "image = cv.resize(image,(500,400))\n",
    "cv.imshow('KeyPoints after magnitude and direction',image)\n",
    "#Finally Compute descriptor\n",
    "sift = cv.SIFT_create()\n",
    "kp1,des =sift.detectAndCompute(gray,None) #None ---> Not Need Mask\n",
    "imgg = cv.drawKeypoints(gray,kp1,image)\n",
    "imgg = cv.resize(imgg,(500,400))\n",
    "cv.imshow(\"Final Key Points\",imgg)\n",
    "cv.waitKey(0)\n",
    "cv.destroyAllWindows()\n",
    "print('The Description are --> ',des)"
   ]
  },
  {
   "cell_type": "code",
   "execution_count": null,
   "metadata": {},
   "outputs": [],
   "source": []
  }
 ],
 "metadata": {
  "kernelspec": {
   "display_name": "base",
   "language": "python",
   "name": "python3"
  },
  "language_info": {
   "codemirror_mode": {
    "name": "ipython",
    "version": 3
   },
   "file_extension": ".py",
   "mimetype": "text/x-python",
   "name": "python",
   "nbconvert_exporter": "python",
   "pygments_lexer": "ipython3",
   "version": "3.11.5"
  }
 },
 "nbformat": 4,
 "nbformat_minor": 2
}
