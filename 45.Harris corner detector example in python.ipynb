{
 "cells": [
  {
   "cell_type": "code",
   "execution_count": 1,
   "metadata": {},
   "outputs": [],
   "source": [
    "#Chess_Board.svg\n",
    "import cv2 as cv \n",
    "import os \n",
    "import numpy as np \n",
    "os.chdir(R\"D:\\\\AI\\\\AI Models\\\\3. OpenCV\\\\0- OpenCV\\\\Data\\\\Images\")\n",
    "image = cv.imread(\"Chess_Board.svg.png\")\n",
    "cv.imshow(\"Original Image\", image)\n",
    "#Convert Image To Gray --> Beacuse to fast processing \n",
    "gray =cv.cvtColor(image,cv.COLOR_BGR2GRAY)\n",
    "gray = np.float32(gray)\n",
    "#Apply Harris\n",
    "# Gray -- image \n",
    "#blocksize = 2 --> Number of blocksize -->  كل مرة هتحرك واعمل شفت باتنين وليس بخطوة واحدة \n",
    "#ksize = 3 --> kernal size or filter (gaussian) is --> 3*3\n",
    "#K Is constant Value from (Range 0.04 --> 0.06)\n",
    "dst = cv.cornerHarris(gray,2,3,0.04)\n",
    "#Apply Threshold\n",
    "dst = cv.dilate(dst,None)\n",
    "image[dst>0.01 * dst.max()] = [0,0,255]\n",
    "cv.imshow(\"Image After apply Harris\",image)\n",
    "if cv.waitKey(0) ==27: cv.destroyAllWindows()"
   ]
  },
  {
   "cell_type": "code",
   "execution_count": null,
   "metadata": {},
   "outputs": [],
   "source": []
  }
 ],
 "metadata": {
  "kernelspec": {
   "display_name": "dlib36",
   "language": "python",
   "name": "python3"
  },
  "language_info": {
   "codemirror_mode": {
    "name": "ipython",
    "version": 3
   },
   "file_extension": ".py",
   "mimetype": "text/x-python",
   "name": "python",
   "nbconvert_exporter": "python",
   "pygments_lexer": "ipython3",
   "version": "3.6.13"
  }
 },
 "nbformat": 4,
 "nbformat_minor": 2
}
