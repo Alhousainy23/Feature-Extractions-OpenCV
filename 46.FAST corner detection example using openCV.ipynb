{
 "cells": [
  {
   "cell_type": "markdown",
   "metadata": {},
   "source": [
    "* Make deteion twice --> one used `non-maxmium suppression` and two not used `non-maxmium suppresion`\n",
    "  "
   ]
  },
  {
   "cell_type": "code",
   "execution_count": 4,
   "metadata": {},
   "outputs": [
    {
     "name": "stdout",
     "output_type": "stream",
     "text": [
      "Threshold is  : 10 \n",
      "NonmaxSuppression L True\n",
      "Nighborhood are : 2\n",
      "The number of total KeyPoints with nonmaxSuppression are : 3733\n"
     ]
    }
   ],
   "source": [
    "import cv2 as cv \n",
    "import numpy as np \n",
    "import matplotlib.pyplot as plt \n",
    "import os \n",
    "os.chdir(R\"D:\\\\AI\\\\AI Models\\\\3. OpenCV\\\\0- OpenCV\\\\Data\\\\Images\")\n",
    "image = cv.imread(\"house1.jpg\",0)\n",
    "#Initiate Fast Object with default values \n",
    "fast = cv.FastFeatureDetector_create() # Takes threshold , nonmaxsuppression , type --> neigbors pixels for center pixel \n",
    "# Find and draw the keypoints \n",
    "kp = fast.detect(image,None)# make detect on image && not put kernal(None)\n",
    "image2 = cv.drawKeypoints(image,kp,None,color=(255,0,0))\n",
    "#print all default params \n",
    "print(\"Threshold is  : {} \".format(fast.getThreshold()))\n",
    "print(\"NonmaxSuppression L {}\".format(fast.getNonmaxSuppression()))\n",
    "print(\"Nighborhood are : {}\".format(fast.getType()))\n",
    "print(\"The number of total KeyPoints with nonmaxSuppression are : {}\".format(len(kp)))\n",
    "cv.imshow(\"Original Image\",image)\n",
    "cv.imshow(\"Fast_true\",image2)\n",
    "cv.waitKey(0)\n",
    "cv.destroyAllWindows()"
   ]
  },
  {
   "cell_type": "code",
   "execution_count": null,
   "metadata": {},
   "outputs": [],
   "source": []
  }
 ],
 "metadata": {
  "kernelspec": {
   "display_name": "base",
   "language": "python",
   "name": "python3"
  },
  "language_info": {
   "codemirror_mode": {
    "name": "ipython",
    "version": 3
   },
   "file_extension": ".py",
   "mimetype": "text/x-python",
   "name": "python",
   "nbconvert_exporter": "python",
   "pygments_lexer": "ipython3",
   "version": "3.11.5"
  }
 },
 "nbformat": 4,
 "nbformat_minor": 2
}
